{
 "cells": [
  {
   "cell_type": "markdown",
   "metadata": {},
   "source": [
    "Fungsi Keanggotaan Umum"
   ]
  },
  {
   "cell_type": "code",
   "execution_count": null,
   "metadata": {},
   "outputs": [],
   "source": [
    "# fungsi keanggotaan segitiga\n",
    "def keanggotaan_segitiga(x, a, b, c):\n",
    "    if x <= a or x >= c:\n",
    "        return 0\n",
    "    elif x == b:\n",
    "        return 1\n",
    "    elif a < x < b:\n",
    "        return (x - a) / (b - a)\n",
    "    elif b < x < c:\n",
    "        return (c - x) / (c - b)\n",
    "\n",
    "# fungsi keanggotaan trapesium\n",
    "def keanggotaan_trapesium(x, a, b, c, d):\n",
    "    if x <= a or x >= d:\n",
    "        return 0\n",
    "    elif b <= x <= c:\n",
    "        return 1\n",
    "    elif a < x < b:\n",
    "        return (x - a) / (b - a)\n",
    "    elif c < x < d:\n",
    "        return (d - x) / (d - c)"
   ]
  },
  {
   "cell_type": "markdown",
   "metadata": {},
   "source": [
    "Fungsi Keanggotaan tiap Variabel"
   ]
  },
  {
   "cell_type": "code",
   "execution_count": null,
   "metadata": {},
   "outputs": [],
   "source": [
    "# fuzzifikasi variabel waktu_belajar\n",
    "def fuzzifikasi_waktu_belajar(x):\n",
    "    rendah = keanggotaan_trapesium(x, 0, 0, 0, 10)\n",
    "    sedang = keanggotaan_segitiga(x, 5, 10, 15)\n",
    "    tinggi = keanggotaan_trapesium(x, 10, 20, 60, 60)\n",
    "    return {'rendah': rendah, 'sedang': sedang, 'tinggi': tinggi}\n",
    "\n",
    "# fuzzifikasi variabel lama_jawab_soal\n",
    "def fuzzifikasi_lama_jawab_soal(x):\n",
    "    rendah = keanggotaan_trapesium(x, 0, 0, 5, 15)\n",
    "    sedang = keanggotaan_segitiga(x, 10, 15, 20)\n",
    "    tinggi = keanggotaan_trapesium(x, 15, 25, 60, 60)\n",
    "    return {'rendah': rendah, 'sedang': sedang, 'tinggi': tinggi}\n",
    "\n",
    "# fuzzifikasi variabel nilai\n",
    "def fuzzifikasi_nilai(x):\n",
    "    rendah = keanggotaan_trapesium(x, 0, 0, 50, 70)\n",
    "    sedang = keanggotaan_segitiga(x, 60, 70, 80)\n",
    "    tinggi = keanggotaan_trapesium(x, 70, 90, 100, 100)\n",
    "    return {'rendah': rendah, 'sedang': sedang, 'tinggi': tinggi}"
   ]
  },
  {
   "cell_type": "markdown",
   "metadata": {},
   "source": [
    "Aturan Fuzzy"
   ]
  },
  {
   "cell_type": "code",
   "execution_count": null,
   "metadata": {},
   "outputs": [],
   "source": [
    "def aturan_fuzzy(waktu_belajar, lama_jawab_soal, nilai):\n",
    "    "
   ]
  }
 ],
 "metadata": {
  "language_info": {
   "name": "python"
  }
 },
 "nbformat": 4,
 "nbformat_minor": 2
}
