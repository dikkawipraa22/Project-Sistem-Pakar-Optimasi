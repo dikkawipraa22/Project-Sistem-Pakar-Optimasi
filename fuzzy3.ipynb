{
 "cells": [
  {
   "cell_type": "markdown",
   "metadata": {},
   "source": [
    "### FUZZYFIKASI"
   ]
  },
  {
   "cell_type": "markdown",
   "metadata": {},
   "source": [
    "Fungsi Keanggotaan Umum"
   ]
  },
  {
   "cell_type": "code",
   "execution_count": 58,
   "metadata": {},
   "outputs": [],
   "source": [
    "# fungsi keanggotaan segitiga\n",
    "def keanggotaan_segitiga(x, a, b, c):\n",
    "    if x <= a or x >= c:\n",
    "        return 0\n",
    "    elif x == b:\n",
    "        return 1\n",
    "    elif a < x < b:\n",
    "        return (x - a) / (b - a)\n",
    "    elif b < x < c:\n",
    "        return (c - x) / (c - b)\n",
    "\n",
    "# fungsi keanggotaan trapesium\n",
    "def keanggotaan_trapesium(x, a, b, c, d):\n",
    "    if x <= a or x >= d:\n",
    "        return 0\n",
    "    elif b <= x <= c:\n",
    "        return 1\n",
    "    elif a < x < b:\n",
    "        return (x - a) / (b - a)\n",
    "    elif c < x < d:\n",
    "        return (d - x) / (d - c)"
   ]
  },
  {
   "cell_type": "markdown",
   "metadata": {},
   "source": [
    "Fungsi Keanggotaan tiap Variabel"
   ]
  },
  {
   "cell_type": "code",
   "execution_count": 59,
   "metadata": {},
   "outputs": [],
   "source": [
    "# fuzzifikasi variabel waktu_belajar\n",
    "def fuzzifikasi_waktu_belajar(x):\n",
    "    kecil = keanggotaan_trapesium(x, 0, 0, 356, 454)\n",
    "    sedang = keanggotaan_segitiga(x, 356, 454, 527)\n",
    "    besar = keanggotaan_trapesium(x, 454, 527, 3600, 3600)\n",
    "    return {'kecil': kecil, 'sedang': sedang, 'besar': besar}\n",
    "\n",
    "# fuzzifikasi variabel lama_jawab_soal\n",
    "def fuzzifikasi_lama_jawab_soal(x):\n",
    "    kecil = keanggotaan_trapesium(x, 0, 0, 367, 621)\n",
    "    sedang = keanggotaan_segitiga(x, 367, 621, 1056)\n",
    "    besar = keanggotaan_trapesium(x, 621, 1056, 9000, 9000)\n",
    "    return {'kecil': kecil, 'sedang': sedang, 'besar': besar}\n",
    "\n",
    "# fuzzifikasi variabel nilai\n",
    "def fuzzifikasi_nilai(x):\n",
    "    kecil = keanggotaan_trapesium(x, 0, 0, 66.7, 83)\n",
    "    sedang = keanggotaan_segitiga(x, 66.7, 83, 100)\n",
    "    besar = keanggotaan_segitiga(x, 83, 100, 100)\n",
    "    return {'kecil': kecil, 'sedang': sedang, 'besar': besar}\n",
    "\n",
    "def fuzzifikasi(waktu_belajar, lama_jawab_soal, nilai):\n",
    "    waktu_belajar = fuzzifikasi_waktu_belajar(waktu_belajar)\n",
    "    lama_jawab_soal = fuzzifikasi_lama_jawab_soal(lama_jawab_soal)\n",
    "    nilai = fuzzifikasi_nilai(nilai)\n",
    "    return waktu_belajar, lama_jawab_soal, nilai"
   ]
  },
  {
   "cell_type": "code",
   "execution_count": 60,
   "metadata": {},
   "outputs": [
    {
     "name": "stdout",
     "output_type": "stream",
     "text": [
      "waktu belajar   : {'kecil': 0, 'sedang': 0, 'besar': 1}\n",
      "lama jawab soal : {'kecil': 0.6653543307086615, 'sedang': 0.3346456692913386, 'besar': 0}\n",
      "nilai           : {'kecil': 0.49079754601227005, 'sedang': 0.50920245398773, 'besar': 0}\n"
     ]
    }
   ],
   "source": [
    "x = fuzzifikasi_waktu_belajar(590)\n",
    "y = fuzzifikasi_lama_jawab_soal(452)\n",
    "z = fuzzifikasi_nilai(75)\n",
    "\n",
    "print(f\"waktu belajar   : {x}\")\n",
    "print(f\"lama jawab soal : {y}\")\n",
    "print(f\"nilai           : {z}\")"
   ]
  },
  {
   "cell_type": "markdown",
   "metadata": {},
   "source": [
    "### ATURAN"
   ]
  },
  {
   "cell_type": "code",
   "execution_count": 61,
   "metadata": {},
   "outputs": [],
   "source": [
    "def aturan_fuzzy(waktu_belajar, lama_jawab_soal, nilai, rules):\n",
    "    wb, ljs, n = fuzzifikasi(waktu_belajar, lama_jawab_soal, nilai)\n",
    "    min_aturan = []\n",
    "\n",
    "    for i in range(len(rules)):\n",
    "        rule = min(wb[rules.iloc[i]['rerata_durasi_akses_materi']], ljs[rules.iloc[i]['durasi_berlatih']], n[rules.iloc[i]['nilai']])\n",
    "        min_aturan.append(rule)\n",
    "    return min_aturan"
   ]
  },
  {
   "cell_type": "code",
   "execution_count": 62,
   "metadata": {},
   "outputs": [
    {
     "data": {
      "text/plain": [
       "[0,\n",
       " 0,\n",
       " 0,\n",
       " 0,\n",
       " 0,\n",
       " 0,\n",
       " 0,\n",
       " 0,\n",
       " 0,\n",
       " 0,\n",
       " 0,\n",
       " 0,\n",
       " 0,\n",
       " 0,\n",
       " 0,\n",
       " 0,\n",
       " 0,\n",
       " 0,\n",
       " 0.49079754601227005,\n",
       " 0.50920245398773,\n",
       " 0,\n",
       " 0.3346456692913386,\n",
       " 0.3346456692913386,\n",
       " 0,\n",
       " 0,\n",
       " 0,\n",
       " 0]"
      ]
     },
     "execution_count": 62,
     "metadata": {},
     "output_type": "execute_result"
    }
   ],
   "source": [
    "import pandas as pd\n",
    "rules = pd.read_csv('rules.csv')\n",
    "aturan_fuzzy(590, 452, 75, rules)"
   ]
  },
  {
   "cell_type": "code",
   "execution_count": null,
   "metadata": {},
   "outputs": [],
   "source": [
    "def certainty_factor():\n",
    "    "
   ]
  }
 ],
 "metadata": {
  "kernelspec": {
   "display_name": "Python 3",
   "language": "python",
   "name": "python3"
  },
  "language_info": {
   "codemirror_mode": {
    "name": "ipython",
    "version": 3
   },
   "file_extension": ".py",
   "mimetype": "text/x-python",
   "name": "python",
   "nbconvert_exporter": "python",
   "pygments_lexer": "ipython3",
   "version": "3.12.6"
  }
 },
 "nbformat": 4,
 "nbformat_minor": 2
}
