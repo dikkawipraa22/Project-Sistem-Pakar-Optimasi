{
 "cells": [
  {
   "cell_type": "markdown",
   "metadata": {},
   "source": [
    "Fungsi Keanggotaan Umum"
   ]
  },
  {
   "cell_type": "code",
   "execution_count": 7,
   "metadata": {},
   "outputs": [],
   "source": [
    "# fungsi keanggotaan segitiga\n",
    "def keanggotaan_segitiga(x, a, b, c):\n",
    "    if x <= a or x >= c:\n",
    "        return 0\n",
    "    elif x == b:\n",
    "        return 1\n",
    "    elif a < x < b:\n",
    "        return (x - a) / (b - a)\n",
    "    elif b < x < c:\n",
    "        return (c - x) / (c - b)\n",
    "\n",
    "# fungsi keanggotaan trapesium\n",
    "def keanggotaan_trapesium(x, a, b, c, d):\n",
    "    if x <= a or x >= d:\n",
    "        return 0\n",
    "    elif b <= x <= c:\n",
    "        return 1\n",
    "    elif a < x < b:\n",
    "        return (x - a) / (b - a)\n",
    "    elif c < x < d:\n",
    "        return (d - x) / (d - c)"
   ]
  },
  {
   "cell_type": "markdown",
   "metadata": {},
   "source": [
    "Fungsi Keanggotaan tiap Variabel"
   ]
  },
  {
   "cell_type": "code",
   "execution_count": 8,
   "metadata": {},
   "outputs": [],
   "source": [
    "# fuzzifikasi variabel waktu_belajar\n",
    "def fuzzifikasi_waktu_belajar(x):\n",
    "    kecil = keanggotaan_trapesium(x, 0, 0, 356, 454)\n",
    "    sedang = keanggotaan_segitiga(x, 356, 454, 527)\n",
    "    besar = keanggotaan_trapesium(x, 454, 527, 3600, 3600)\n",
    "    return {'kecil': kecil, 'sedang': sedang, 'besar': besar}\n",
    "\n",
    "# fuzzifikasi variabel lama_jawab_soal\n",
    "def fuzzifikasi_lama_jawab_soal(x):\n",
    "    kecil = keanggotaan_trapesium(x, 0, 0, 367, 621)\n",
    "    sedang = keanggotaan_segitiga(x, 367, 621, 1056)\n",
    "    besar = keanggotaan_trapesium(x, 621, 1056, 9000, 9000)\n",
    "    return {'kecil': kecil, 'sedang': sedang, 'besar': besar}\n",
    "\n",
    "# fuzzifikasi variabel nilai\n",
    "def fuzzifikasi_nilai(x):\n",
    "    kecil = keanggotaan_trapesium(x, 0, 0, 66.7, 83)\n",
    "    sedang = keanggotaan_segitiga(x, 66.7, 83, 100)\n",
    "    besar = keanggotaan_segitiga(x, 83, 100, 100)\n",
    "    return {'kecil': kecil, 'sedang': sedang, 'besar': besar}"
   ]
  },
  {
   "cell_type": "code",
   "execution_count": 9,
   "metadata": {},
   "outputs": [
    {
     "name": "stdout",
     "output_type": "stream",
     "text": [
      "waktu belajar   : {'kecil': 0, 'sedang': 0, 'besar': 1}\n",
      "lama jawab soal : {'kecil': 0.6653543307086615, 'sedang': 0.3346456692913386, 'besar': 0}\n",
      "nilai           : {'kecil': 0.49079754601227005, 'sedang': 0.50920245398773, 'besar': 0}\n"
     ]
    }
   ],
   "source": [
    "x = fuzzifikasi_waktu_belajar(590)\n",
    "y = fuzzifikasi_lama_jawab_soal(452)\n",
    "z = fuzzifikasi_nilai(75)\n",
    "\n",
    "print(f\"waktu belajar   : {x}\")\n",
    "print(f\"lama jawab soal : {y}\")\n",
    "print(f\"nilai           : {z}\")"
   ]
  },
  {
   "cell_type": "markdown",
   "metadata": {},
   "source": [
    "Aturan Fuzzy"
   ]
  },
  {
   "cell_type": "code",
   "execution_count": 10,
   "metadata": {},
   "outputs": [
    {
     "ename": "SyntaxError",
     "evalue": "incomplete input (928589186.py, line 2)",
     "output_type": "error",
     "traceback": [
      "\u001b[1;36m  Cell \u001b[1;32mIn[10], line 2\u001b[1;36m\u001b[0m\n\u001b[1;33m    \u001b[0m\n\u001b[1;37m    ^\u001b[0m\n\u001b[1;31mSyntaxError\u001b[0m\u001b[1;31m:\u001b[0m incomplete input\n"
     ]
    }
   ],
   "source": [
    "def aturan_fuzzy(waktu_belajar, lama_jawab_soal, nilai):\n",
    "    "
   ]
  }
 ],
 "metadata": {
  "kernelspec": {
   "display_name": "Python 3",
   "language": "python",
   "name": "python3"
  },
  "language_info": {
   "codemirror_mode": {
    "name": "ipython",
    "version": 3
   },
   "file_extension": ".py",
   "mimetype": "text/x-python",
   "name": "python",
   "nbconvert_exporter": "python",
   "pygments_lexer": "ipython3",
   "version": "3.12.6"
  }
 },
 "nbformat": 4,
 "nbformat_minor": 2
}
