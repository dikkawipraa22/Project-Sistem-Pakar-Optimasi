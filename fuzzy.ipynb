{
 "cells": [
  {
   "cell_type": "markdown",
   "metadata": {},
   "source": [
    "Fungsi Keanggotaan Umum"
   ]
  },
  {
   "cell_type": "code",
   "execution_count": null,
   "metadata": {},
   "outputs": [],
   "source": [
    "# fungsi keanggotaan segitiga\n",
    "def keanggotaan_segitiga(x, a, b, c):\n",
    "    if x <= a or x >= c:\n",
    "        return 0\n",
    "    elif x == b:\n",
    "        return 1\n",
    "    elif a < x < b:\n",
    "        return (x - a) / (b - a)\n",
    "    elif b < x < c:\n",
    "        return (c - x) / (c - b)\n",
    "\n",
    "# fungsi keanggotaan trapesium\n",
    "def keanggotaan_trapesium(x, a, b, c, d):\n",
    "    if x <= a or x >= d:\n",
    "        return 0\n",
    "    elif b <= x <= c:\n",
    "        return 1\n",
    "    elif a < x < b:\n",
    "        return (x - a) / (b - a)\n",
    "    elif c < x < d:\n",
    "        return (d - x) / (d - c)"
   ]
  }
 ],
 "metadata": {
  "language_info": {
   "name": "python"
  }
 },
 "nbformat": 4,
 "nbformat_minor": 2
}
