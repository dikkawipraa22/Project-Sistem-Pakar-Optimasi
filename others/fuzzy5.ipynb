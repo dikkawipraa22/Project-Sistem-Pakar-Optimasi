{
 "cells": [
  {
   "cell_type": "markdown",
   "metadata": {},
   "source": [
    "Fungsi Keanggotaan Umum"
   ]
  },
  {
   "cell_type": "code",
   "execution_count": 1,
   "metadata": {},
   "outputs": [],
   "source": [
    "# fungsi keanggotaan segitiga\n",
    "def keanggotaan_segitiga(x, a, b, c):\n",
    "    if x <= a or x >= c:\n",
    "        return 0\n",
    "    elif x == b:\n",
    "        return 1\n",
    "    elif a < x < b:\n",
    "        return (x - a) / (b - a)\n",
    "    elif b < x < c:\n",
    "        return (c - x) / (c - b)\n",
    "\n",
    "# fungsi keanggotaan trapesium\n",
    "def keanggotaan_trapesium(x, a, b, c, d):\n",
    "    if x <= a or x >= d:\n",
    "        return 0\n",
    "    elif b <= x <= c:\n",
    "        return 1\n",
    "    elif a < x < b:\n",
    "        return (x - a) / (b - a)\n",
    "    elif c < x < d:\n",
    "        return (d - x) / (d - c)"
   ]
  },
  {
   "cell_type": "markdown",
   "metadata": {},
   "source": [
    "Fungsi Keanggotaan tiap Variabel"
   ]
  },
  {
   "cell_type": "code",
   "execution_count": null,
   "metadata": {},
   "outputs": [],
   "source": [
    "# fuzzifikasi variabel waktu_belajar\n",
    "def fuzzifikasi_waktu_belajar(x):\n",
    "    sangat_rendah   = keanggotaan_trapesium(x, 0, 0, 0, 5)\n",
    "    rendah          = keanggotaan_segitiga(x, 0, 5, 10)\n",
    "    sedang          = keanggotaan_segitiga(x, 5, 10, 15)\n",
    "    tinggi          = keanggotaan_segitiga(x, 10, 15, 20)\n",
    "    sangat_tinggi   = keanggotaan_trapesium(x, 15, 20, 60, 60)\n",
    "    return {'sangat rendah': sangat_rendah, 'rendah': rendah, 'sedang': sedang, 'tinggi': tinggi, 'sangat tinggi': sangat_tinggi}\n",
    "\n",
    "# fuzzifikasi variabel lama_jawab_soal\n",
    "def fuzzifikasi_lama_jawab_soal(x):\n",
    "    sangat_rendah   = keanggotaan_trapesium(x, 0, 0, 5, 10)\n",
    "    rendah          = keanggotaan_segitiga(x, 5, 10, 15)\n",
    "    sedang          = keanggotaan_segitiga(x, 10, 15, 20)\n",
    "    tinggi          = keanggotaan_segitiga(x, 15, 20, 25)\n",
    "    sangat_tinggi   = keanggotaan_trapesium(x, 20, 25, 60, 60)\n",
    "    return {'sangat rendah': sangat_rendah, 'rendah': rendah, 'sedang': sedang, 'tinggi': tinggi, 'sangat tinggi': sangat_tinggi}\n",
    "\n",
    "# fuzzifikasi variabel nilai\n",
    "def fuzzifikasi_nilai(x):\n",
    "    sangat_rendah   = keanggotaan_trapesium(x, 0, 0, 50, 60)\n",
    "    rendah          = keanggotaan_segitiga(x, 50, 60, 70)\n",
    "    sedang          = keanggotaan_segitiga(x, 60, 70, 80)\n",
    "    tinggi          = keanggotaan_segitiga(x, 70, 80, 90)\n",
    "    sangat_tinggi   = keanggotaan_trapesium(x, 80, 90, 100, 100)\n",
    "    return {'sangat rendah': sangat_rendah, 'rendah': rendah, 'sedang': sedang, 'tinggi': tinggi, 'sangat tinggi': sangat_tinggi}"
   ]
  },
  {
   "cell_type": "code",
   "execution_count": null,
   "metadata": {},
   "outputs": [
    {
     "name": "stdout",
     "output_type": "stream",
     "text": [
      "{'sangat rendah': 0, 'rendah': 0, 'sedang': 0.2, 'tinggi': 0.8, 'sangat tinggi': 0}\n",
      "{'sangat rendah': 0, 'rendah': 0.6, 'sedang': 0.4, 'tinggi': 0, 'sangat tinggi': 0}\n",
      "{'sangat rendah': 0, 'rendah': 0, 'sedang': 0, 'tinggi': 0.8, 'sangat tinggi': 0.2}\n"
     ]
    }
   ],
   "source": [
    "x = fuzzifikasi_waktu_belajar(14)\n",
    "y = fuzzifikasi_lama_jawab_soal(12)\n",
    "z = fuzzifikasi_nilai(82)\n",
    "\n",
    "print(x)\n",
    "print(y)\n",
    "print(z)"
   ]
  },
  {
   "cell_type": "markdown",
   "metadata": {},
   "source": [
    "Aturan Fuzzy"
   ]
  },
  {
   "cell_type": "code",
   "execution_count": 4,
   "metadata": {},
   "outputs": [
    {
     "ename": "SyntaxError",
     "evalue": "incomplete input (928589186.py, line 2)",
     "output_type": "error",
     "traceback": [
      "\u001b[1;36m  Cell \u001b[1;32mIn[4], line 2\u001b[1;36m\u001b[0m\n\u001b[1;33m    \u001b[0m\n\u001b[1;37m    ^\u001b[0m\n\u001b[1;31mSyntaxError\u001b[0m\u001b[1;31m:\u001b[0m incomplete input\n"
     ]
    }
   ],
   "source": [
    "def aturan_fuzzy(waktu_belajar, lama_jawab_soal, nilai):\n",
    "    "
   ]
  }
 ],
 "metadata": {
  "kernelspec": {
   "display_name": "Python 3",
   "language": "python",
   "name": "python3"
  },
  "language_info": {
   "codemirror_mode": {
    "name": "ipython",
    "version": 3
   },
   "file_extension": ".py",
   "mimetype": "text/x-python",
   "name": "python",
   "nbconvert_exporter": "python",
   "pygments_lexer": "ipython3",
   "version": "3.12.6"
  }
 },
 "nbformat": 4,
 "nbformat_minor": 2
}
