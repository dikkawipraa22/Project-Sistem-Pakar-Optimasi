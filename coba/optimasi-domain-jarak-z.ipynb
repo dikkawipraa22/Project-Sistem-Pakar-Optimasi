{
 "cells": [
  {
   "cell_type": "markdown",
   "metadata": {},
   "source": [
    "### PARTICLE SWARM "
   ]
  },
  {
   "cell_type": "code",
   "execution_count": null,
   "metadata": {},
   "outputs": [],
   "source": [
    "import numpy as np\n",
    "np.set_printoptions(suppress=True)"
   ]
  },
  {
   "cell_type": "code",
   "execution_count": null,
   "metadata": {},
   "outputs": [],
   "source": [
    "%run fuzzy-pakar-jarak-z.ipynb"
   ]
  },
  {
   "cell_type": "code",
   "execution_count": null,
   "metadata": {},
   "outputs": [],
   "source": [
    "class Particle:\n",
    "    def __init__(self, bounds):\n",
    "        self.bounds = bounds\n",
    "        self.position = self._generate_position()\n",
    "        self.velocity = self._generate_velocity()\n",
    "        self.best_position = np.copy(self.position)\n",
    "        self.best_score = -float('inf')\n",
    "\n",
    "    def _generate_position(self):\n",
    "        position = []\n",
    "        for min_bound, max_bound, length in self.bounds:\n",
    "            segment = np.random.uniform(min_bound, max_bound, size=length)\n",
    "            position.extend(segment)\n",
    "        return np.array(position)\n",
    "\n",
    "    def _generate_velocity(self):   \n",
    "        velocity = []\n",
    "        for _, _, length in self.bounds:\n",
    "            segment = np.random.uniform(-1, 1, size=length)\n",
    "            velocity.extend(segment)\n",
    "        return np.array(velocity)\n",
    "\n",
    "    def update_velocity(self, global_best_position, w, c1, c2):\n",
    "        r1 = np.random.rand(len(self.position))\n",
    "        r2 = np.random.rand(len(self.position))\n",
    "        cognitive = c1 * r1 * (self.best_position - self.position)\n",
    "        social = c2 * r2 * (global_best_position - self.position)\n",
    "        self.velocity = w * self.velocity + cognitive + social\n",
    "\n",
    "    def update_position(self):\n",
    "        self.position += self.velocity\n",
    "        start_idx = 0\n",
    "        for min_bound, max_bound, length in self.bounds:\n",
    "            end_idx = start_idx + length\n",
    "            self.position[start_idx:end_idx] = np.clip(\n",
    "                self.position[start_idx:end_idx], min_bound, max_bound\n",
    "            )\n",
    "            start_idx = end_idx"
   ]
  },
  {
   "cell_type": "code",
   "execution_count": null,
   "metadata": {},
   "outputs": [],
   "source": [
    "def objective_function(posisi_partikel, dataset):\n",
    "    total_error = 0\n",
    "    for i in range(len(dataset)):\n",
    "        waktu_belajar = dataset.loc[i, 'rerata_durasi_akses_materi']\n",
    "        lama_jawab_soal = dataset.loc[i, 'durasi_berlatih']\n",
    "        nilai = dataset.loc[i, 'nilai']\n",
    "        kepercayaan_pakar = dataset.loc[i, 'kepercayaan_pakar']\n",
    "        # fuzzifikasi\n",
    "        x, y, z = func_fuzzifikasi(waktu_belajar, lama_jawab_soal, nilai, posisi_partikel)\n",
    "        # inferensi mamdani\n",
    "        hasil_inferensi, rule_text = inferensi_mamdani(x, y, z, rules)\n",
    "        # agregasi\n",
    "        hasil_agregasi = agregasi(hasil_inferensi)\n",
    "        # defuzzifikasi coa\n",
    "        hasil_defuzzifikasi = defuzzifikasi(hasil_agregasi)\n",
    "        # menghitung error\n",
    "        nilai_error = error_kelulusan(hasil_defuzzifikasi, kepercayaan_pakar)\n",
    "        total_error += nilai_error\n",
    "    # hitung akurasi\n",
    "    akurasi = 100 - (total_error / len(dataset))\n",
    "    indices = [0, 4, 5, 9, 10, 14]\n",
    "    if any(posisi_partikel[i] == 0 for i in indices):\n",
    "        akurasi = 0\n",
    "    return akurasi"
   ]
  },
  {
   "cell_type": "code",
   "execution_count": null,
   "metadata": {},
   "outputs": [],
   "source": [
    "def ensure_constraints(posisi_partikel):\n",
    "    posisi_partikel[1:4] = sorted(posisi_partikel[1:4])\n",
    "    posisi_partikel[6:9] = sorted(posisi_partikel[6:9])\n",
    "    posisi_partikel[11:14] = sorted(posisi_partikel[11:14])"
   ]
  },
  {
   "cell_type": "code",
   "execution_count": null,
   "metadata": {},
   "outputs": [],
   "source": [
    "def particle_swarm_optimization(bounds, dataset, num_particles, max_iter, w=0.5, c1=2, c2=2):\n",
    "    swarm = []\n",
    "    temp= []\n",
    "    for _ in range(num_particles):\n",
    "        swarm.append(Particle(bounds))\n",
    "    global_best_position = None\n",
    "    global_best_score = -float('inf')\n",
    "\n",
    "    for iteration in range(max_iter):\n",
    "        for particle in swarm:\n",
    "            ensure_constraints(particle.position)\n",
    "            particle_score = objective_function(particle.position, dataset)\n",
    "            # print(particle_score)\n",
    "            if particle_score > particle.best_score:\n",
    "                particle.best_score = particle_score\n",
    "                particle.best_position = np.copy(particle.position)\n",
    "\n",
    "            if particle_score > global_best_score:\n",
    "                global_best_score = particle_score\n",
    "                global_best_position = np.copy(particle.position)\n",
    "\n",
    "        # Update velocity and position\n",
    "        for particle in swarm:\n",
    "            particle.update_velocity(global_best_position, w, c1, c2)\n",
    "            particle.update_position()\n",
    "                # ensure_constraints(particle.position)\n",
    "        temp.append(global_best_score)\n",
    "            \n",
    "        print(f\"Iteration {iteration+1}/{max_iter}, Best Score: {global_best_score}\")\n",
    "        \n",
    "    return global_best_position, global_best_score, temp"
   ]
  },
  {
   "cell_type": "code",
   "execution_count": null,
   "metadata": {},
   "outputs": [],
   "source": [
    "bounds = [\n",
    "    (0, 700, 5),  # Elemen 0-10 dengan batas [0, 1]\n",
    "    (0, 7500, 5),  # Elemen 11-20 dengan batas [1, 5]\n",
    "    (0, 100, 5)  # Elemen 21-31 dengan batas [-3, 3]\n",
    "]\n",
    "\n",
    "# Run PSO\n",
    "num_particles = 50\n",
    "max_iter = 50\n",
    "best_params, best_score, best_score_hist = particle_swarm_optimization(bounds, dataset, num_particles, max_iter)"
   ]
  },
  {
   "cell_type": "code",
   "execution_count": null,
   "metadata": {},
   "outputs": [],
   "source": [
    "print(best_params)\n",
    "print(f\"\\nBest Accuracy: {best_score:.4f}\")"
   ]
  },
  {
   "cell_type": "code",
   "execution_count": null,
   "metadata": {},
   "outputs": [],
   "source": [
    "import matplotlib.pyplot as plt\n",
    "plt.plot(best_score_hist, color=\"red\")\n",
    "plt.title(\"Akurasi setiap Iterasi\", fontsize=16)\n",
    "plt.xlabel(\"Iterasi ke-\", fontsize=12)\n",
    "plt.ylabel(\"Akurasi\", fontsize=12)\n",
    "plt.show()"
   ]
  }
 ],
 "metadata": {
  "kernelspec": {
   "display_name": "Python 3",
   "language": "python",
   "name": "python3"
  },
  "language_info": {
   "codemirror_mode": {
    "name": "ipython",
    "version": 3
   },
   "file_extension": ".py",
   "mimetype": "text/x-python",
   "name": "python",
   "nbconvert_exporter": "python",
   "pygments_lexer": "ipython3",
   "version": "3.12.6"
  }
 },
 "nbformat": 4,
 "nbformat_minor": 2
}
